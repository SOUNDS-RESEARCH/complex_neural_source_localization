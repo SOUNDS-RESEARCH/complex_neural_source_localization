{
 "cells": [
  {
   "cell_type": "markdown",
   "id": "bb89c2f6",
   "metadata": {},
   "source": [
    "## Imports"
   ]
  },
  {
   "cell_type": "code",
   "execution_count": 41,
   "id": "ea54a9cf",
   "metadata": {},
   "outputs": [],
   "source": [
    "import librosa\n",
    "import numpy as np\n",
    "import numpy.fft as fft\n",
    "import os\n",
    "import sys\n",
    "\n",
    "from ipywidgets import interact_manual, FloatSlider\n",
    "from matplotlib import pyplot as plt\n",
    "\n",
    "from pyroomasync.settings import SPEED_OF_SOUND\n",
    "from pyroomasync.room import ConnectedShoeBox\n",
    "from pyroomasync.simulator import simulate\n",
    "from scipy.signal.signaltools import correlate, correlation_lags\n",
    "\n",
    "sys.path.append(\"..\")\n",
    "import tdoa\n",
    "from tdoa.tdoa import compute_correlations\n",
    "from tdoa.math import compute_distance\n",
    "\n",
    "from tdoa.visualization import get_2d_room_plot_axis\n",
    "\n",
    "from datasets.generate_random_configs import generate_random_source_signal\n",
    "\n",
    "# Increasing room size means lower reverberation \n",
    "ROOM_DIM = [10, 10, 3]\n",
    "SOURCE_LOCATION = [5, 5, 1]\n",
    "MIC_LOCATIONS = [[3, 3, 1], [6, 6.5, 1]]\n",
    "SIGNAL_TYPE = \"speech\" # speech | noise\n",
    "DELAY = 0e-3\n",
    "\n",
    "CORRELATION_MODE = \"gcc_phat\" # gcc_phat | vanilla"
   ]
  },
  {
   "cell_type": "markdown",
   "id": "cf15ec4e",
   "metadata": {},
   "source": [
    "## Simulate for two input signals"
   ]
  },
  {
   "cell_type": "code",
   "execution_count": 42,
   "id": "3baa6dbb",
   "metadata": {},
   "outputs": [
    {
     "name": "stdout",
     "output_type": "stream",
     "text": [
      "Distances: 2.83m, 1.80m. DOA = 1.03m TDOA = 2.99ms\n"
     ]
    },
    {
     "data": {
      "image/png": "[encoded data removed]",
      "text/plain": [
       "<Figure size 432x288 with 1 Axes>"
      ]
     },
     "metadata": {
      "needs_background": "light"
     },
     "output_type": "display_data"
    }
   ],
   "source": [
    "def load_signal(signal_type):\n",
    "    input_signal, fs = librosa.load(\"../tests/fixtures/p225_001.wav\")\n",
    "\n",
    "    if signal_type == \"noise\":\n",
    "        input_signal, _ = generate_random_source_signal(fs, input_signal.shape[0]/fs, random_gain=False)\n",
    "    \n",
    "    return input_signal, fs\n",
    "    \n",
    "def simulate_room(input_signal, fs):\n",
    "\n",
    "    dists = [\n",
    "        compute_distance(SOURCE_LOCATION, mic_loc)\n",
    "        for mic_loc in MIC_LOCATIONS\n",
    "    ]\n",
    "    \n",
    "    doa = dists[0] - dists[1]\n",
    "    tdoa_in_ms = 1000*doa/SPEED_OF_SOUND\n",
    "    print(\"Distances: {0:.2f}m, {1:.2f}m. DOA = {2:.2f}m TDOA = {3:.2f}ms\".format(\n",
    "            dists[0], dists[1], doa, tdoa_in_ms))\n",
    "    room = ConnectedShoeBox(ROOM_DIM, fs=fs)\n",
    "    room.add_source(SOURCE_LOCATION, input_signal)\n",
    "    room.add_microphone_array(MIC_LOCATIONS, delay=[0, DELAY])\n",
    "\n",
    "    simulation_results = simulate(room)\n",
    "    return simulation_results, room\n",
    "\n",
    "input_signal, fs = load_signal(SIGNAL_TYPE)\n",
    "\n",
    "simulated_microphone_signals, room = simulate_room(input_signal, fs)\n",
    "\n",
    "get_2d_room_plot_axis(room)\n",
    "plt.show()"
   ]
  },
  {
   "cell_type": "markdown",
   "id": "03fc1431",
   "metadata": {},
   "source": [
    "## Autocorrelation comparison between signals"
   ]
  },
  {
   "cell_type": "code",
   "execution_count": 43,
   "id": "b73e1c50",
   "metadata": {},
   "outputs": [
    {
     "data": {
      "image/png": "[encoded data removed]",
      "text/plain": [
       "<Figure size 432x288 with 1 Axes>"
      ]
     },
     "metadata": {
      "needs_background": "light"
     },
     "output_type": "display_data"
    }
   ],
   "source": [
    "def temporal_cross_correlation(x1, x2, fs):\n",
    "    \n",
    "    # Normalize signals for a normalized correlation\n",
    "    # https://github.com/numpy/numpy/issues/2310\n",
    "    x1 = (x1 - np.mean(x1)) / (np.std(x1) * len(x1))\n",
    "    x2 = (x2 - np.mean(x2)) / (np.std(x2) * len(x2))\n",
    "    \n",
    "    cc = correlate(x1, x2, mode=\"same\")\n",
    "    lag_indexes = correlation_lags(x1.shape[0], x2.shape[0], mode=\"same\")\n",
    "\n",
    "    cc = np.abs(cc)\n",
    "    \n",
    "    return cc, lag_indexes/fs\n",
    "\n",
    "\n",
    "def gcc_phat(x1, x2, fs):\n",
    "    '''\n",
    "    This function computes the offset between the signal sig and the reference signal x2\n",
    "    using the Generalized Cross Correlation - Phase Transform (GCC-PHAT) method.\n",
    "    Implementation based on http://www.xavieranguera.com/phdthesis/node92.html\n",
    "    '''\n",
    "    \n",
    "    n = x1.shape[0] # + x2.shape[0]\n",
    "\n",
    "\n",
    "    X1 = np.fft.rfft(x1, n=n)\n",
    "    X2 = np.fft.rfft(x2, n=n)\n",
    "    R = X1 * np.conj(X2)\n",
    "    Gphat = R / np.abs(R)\n",
    "    cc = np.fft.irfft(Gphat, n=n)\n",
    "\n",
    "    max_shift = n // 2\n",
    "\n",
    "    cc = np.concatenate((cc[-max_shift:], cc[:max_shift+1]))\n",
    "    \n",
    "    indxs = np.zeros_like(cc)\n",
    "    indxs[0:max_shift] = - np.arange(max_shift, 0, -1)\n",
    "    indxs[max_shift:] = np.arange(0, max_shift + 1)\n",
    "    indxs = indxs/fs\n",
    "\n",
    "    return cc, indxs\n",
    "\n",
    "\n",
    "def cross_correlation(x1, x2, fs, mode=CORRELATION_MODE):\n",
    "    if mode == \"vanilla\":\n",
    "        return temporal_cross_correlation(x1, x2, fs)\n",
    "    elif mode == \"gcc_phat\":\n",
    "        return gcc_phat(x1, x2, fs)\n",
    "\n",
    "\n",
    "def auto_correlation(x, fs, mode=CORRELATION_MODE):\n",
    "    return cross_correlation(x, x, fs, mode)\n",
    "\n",
    "\n",
    "def plot_output_autocorrelation(input_signal, simulated_microphone_signals):\n",
    "    center = int(simulated_microphone_signals[0].shape[0]/2)\n",
    "    for i, signal in enumerate(simulated_microphone_signals):\n",
    "        autocorrelation, lag_indexes = auto_correlation(signal, fs)\n",
    "        plt.plot(lag_indexes[center-1000:center+1000], autocorrelation[center-1000:center+1000], label=i) # [22500:23500]\n",
    "     \n",
    "    center = int(input_signal.shape[0]/2)\n",
    "    autocorrelation, lag_indexes = auto_correlation(input_signal, fs)\n",
    "    plt.plot(lag_indexes[center-1000:center+1000], autocorrelation[center-1000:center+1000], label=\"Input Signal\", color=\"b\")\n",
    "    plt.legend()\n",
    "    plt.show()\n",
    "    \n",
    "\n",
    "plot_output_autocorrelation(input_signal, simulated_microphone_signals)"
   ]
  },
  {
   "cell_type": "markdown",
   "id": "43b69c8d",
   "metadata": {},
   "source": [
    "## TDOA"
   ]
  },
  {
   "cell_type": "code",
   "execution_count": 44,
   "id": "3ab5edda",
   "metadata": {
    "scrolled": true
   },
   "outputs": [
    {
     "name": "stdout",
     "output_type": "stream",
     "text": [
      "TDOA (signal_type=speech): 2.99ms\n"
     ]
    },
    {
     "data": {
      "application/vnd.jupyter.widget-view+json": {
       "model_id": "3ec51947c5c445f0b89f68826ae71034",
       "version_major": 2,
       "version_minor": 0
      },
      "text/plain": [
       "interactive(children=(FloatSlider(value=-1.0453741496598639, description='start_secs', max=1.0453741496598639,…"
      ]
     },
     "metadata": {},
     "output_type": "display_data"
    }
   ],
   "source": [
    "def compute_tdoa(simulated_microphone_signals, fs):\n",
    "#     cc, lag_indexes = cross_correlation(simulated_microphone_signals[0],\n",
    "#                                         simulated_microphone_signals[1],\n",
    "#                                         fs)\n",
    "    \n",
    "    cc, lag_indexes = gcc_phat(simulated_microphone_signals[0],\n",
    "                               simulated_microphone_signals[1],\n",
    "                               fs)\n",
    "    tdoa = lag_indexes[np.argmax(np.abs(cc))]\n",
    "    \n",
    "    return tdoa, cc, lag_indexes\n",
    "    \n",
    "tdoa, cc, lag_indexes = compute_tdoa(simulated_microphone_signals, fs)\n",
    "print(\"TDOA (signal_type={0}): {1:.2f}ms\".format(SIGNAL_TYPE, tdoa*1000))\n",
    "\n",
    "\n",
    "def plot_interval(x, y, fs):\n",
    "    max_end_secs = (x.shape[0]/fs)/2\n",
    "    min_start_secs = -max_end_secs\n",
    "    \n",
    "    def plot_func(start_secs=min_start_secs, end_secs=max_end_secs):\n",
    "        start_secs += max_end_secs\n",
    "        end_secs += max_end_secs\n",
    "        start = int(start_secs*fs)\n",
    "        end = int(end_secs*fs)\n",
    "        x_interval = x[start:end]\n",
    "        y_interval = y[start:end]\n",
    "        \n",
    "        plt.plot(x_interval, y_interval)\n",
    "\n",
    "    start_slider = FloatSlider(min=min_start_secs, max=max_end_secs, step=0.03, value=min_start_secs)\n",
    "    end_slider = FloatSlider(min=min_start_secs, max=max_end_secs, step=0.03, value=max_end_secs)\n",
    "\n",
    "    interact_manual(plot_func,\n",
    "             start_secs=start_slider,\n",
    "             end_secs=end_slider)\n",
    "\n",
    "plot_interval(lag_indexes, cc, fs)"
   ]
  },
  {
   "cell_type": "markdown",
   "id": "0bfd7f4a",
   "metadata": {},
   "source": [
    "## GCC Phat"
   ]
  },
  {
   "cell_type": "code",
   "execution_count": 45,
   "id": "14ca1aa1",
   "metadata": {},
   "outputs": [
    {
     "name": "stdout",
     "output_type": "stream",
     "text": [
      "(46101,)\n"
     ]
    },
    {
     "data": {
      "text/plain": [
       "[<matplotlib.lines.Line2D at 0x2bdbfa05c40>]"
      ]
     },
     "execution_count": 45,
     "metadata": {},
     "output_type": "execute_result"
    },
    {
     "data": {
      "image/png": "[encoded data removed]",
      "text/plain": [
       "<Figure size 432x288 with 1 Axes>"
      ]
     },
     "metadata": {
      "needs_background": "light"
     },
     "output_type": "display_data"
    }
   ],
   "source": [
    "\n",
    "cc, indxs = gcc_phat(simulated_microphone_signals[0], simulated_microphone_signals[1], fs)\n",
    "\n",
    "print(cc.shape)\n",
    "plt.plot(indxs, cc)"
   ]
  }
 ],
 "metadata": {
  "kernelspec": {
   "display_name": "Python 3",
   "language": "python",
   "name": "python3"
  },
  "language_info": {
   "codemirror_mode": {
    "name": "ipython",
    "version": 3
   },
   "file_extension": ".py",
   "mimetype": "text/x-python",
   "name": "python",
   "nbconvert_exporter": "python",
   "pygments_lexer": "ipython3",
   "version": "3.9.5"
  }
 },
 "nbformat": 4,
 "nbformat_minor": 5
}
