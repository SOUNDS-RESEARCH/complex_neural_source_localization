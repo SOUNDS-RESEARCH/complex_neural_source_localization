{
 "cells": [
  {
   "cell_type": "markdown",
   "id": "47dc9719",
   "metadata": {},
   "source": [
    "## Plot DOA angle"
   ]
  },
  {
   "cell_type": "code",
   "execution_count": 1,
   "id": "7b25896e",
   "metadata": {},
   "outputs": [
    {
     "name": "stdout",
     "output_type": "stream",
     "text": [
      "-77.0053832080835\n",
      "135.0 -77.0053832080835\n"
     ]
    },
    {
     "data": {
      "text/plain": [
       "<AxesSubplot:>"
      ]
     },
     "execution_count": 1,
     "metadata": {},
     "output_type": "execute_result"
    },
    {
     "data": {
      "image/png": "[encoded data removed]",
      "text/plain": [
       "<Figure size 432x288 with 1 Axes>"
      ]
     },
     "metadata": {
      "needs_background": "light"
     },
     "output_type": "display_data"
    }
   ],
   "source": [
    "import sys\n",
    "sys.path.append(\"..\")\n",
    "from tdoa.math_utils import compute_doa, compute_angle_between_vectors\n",
    "\n",
    "import matplotlib.pyplot as plt\n",
    "import numpy as np\n",
    "\n",
    "from matplotlib.patches import Arc\n",
    "\n",
    "\n",
    "def plot_vector(start, end, ax, **qwargs):\n",
    "    direction = end - start\n",
    "    ax.quiver(start[0], start[1], direction[0], direction[1],\n",
    "              scale_units='xy', scale=1, **qwargs)\n",
    "    return ax\n",
    "    \n",
    "\n",
    "def plot_points(m1, m2, s, array_centre, ax):\n",
    "    points = [m1, m2, array_centre]\n",
    "    labels = [\"Mic. 1\", \"Mic. 2\", \"Axis centre\"]\n",
    "    colors = [\"blue\", \"blue\", \"g\", \"r\"]\n",
    "    \n",
    "    for point, label, color in zip(points, labels, colors):\n",
    "        ax.scatter(point[0], point[1], label=label, color=color)\n",
    "    \n",
    "    ax.scatter(s[0], s[1], label=\"source\", color=\"g\", marker=\"x\")\n",
    "    return ax\n",
    "\n",
    "\n",
    "def plot_angle(m1, m2, array_centre, angle_value, ax, radius=0.2):\n",
    "    theta = np.linspace(0, 2*np.pi, 100)\n",
    "\n",
    "    x1 = radius * np.cos(theta) + array_centre[0]\n",
    "    x2 = radius * np.sin(theta) + array_centre[1]\n",
    "    \n",
    "    # Angle the microphone array makes with the x axis\n",
    "    mic_array_angle = compute_angle_between_vectors(np.array([1, 0]),\n",
    "                                                    m1 - m2,\n",
    "                                                    radians=False)\n",
    "    \n",
    "    arc = Arc(array_centre, radius, radius, angle=mic_array_angle,\n",
    "              theta2=angle_value, color=\"g\")\n",
    "    \n",
    "    text_angle = (mic_array_angle + angle_value/2)*np.pi/180\n",
    "    print(mic_array_angle, angle_value)\n",
    "    \n",
    "    mid_angle_x = array_centre[0] + (radius)*np.cos(text_angle)#+ (radius+0.45) * np.cos(mid_angle)\n",
    "    mid_angle_y = array_centre[1] + (radius)*np.sin(text_angle)#+ (radius+0.45) * np.sin(mid_angle)\n",
    "    ax.text(mid_angle_x, mid_angle_y, \"{:.1f}°\".format(angle_value), fontsize=8, color=\"g\")\n",
    "    ax.add_patch(arc)\n",
    "    \n",
    "    return ax\n",
    "\n",
    "\n",
    "def plot_doa(m1, m2, s, output_path=None, ax=None):\n",
    "    if ax is None:\n",
    "        _, ax = plt.subplots()\n",
    "    \n",
    "    m1 = np.array(m1)\n",
    "    m2 = np.array(m2)\n",
    "    s = np.array(s)\n",
    "    array_centre = (m1 + m2)/2\n",
    "    doa = compute_doa(m1, m2, s, radians=False)\n",
    "    print(doa)\n",
    "    \n",
    "    plot_points(m1, m2, s, array_centre, ax)\n",
    "        \n",
    "    plot_vector(m1, m2, ax, label=\"Mic. axis\", color=\"b\")\n",
    "    plot_vector(array_centre, s, ax, color=\"g\")\n",
    "    \n",
    "    plot_angle(m1, m2, array_centre, doa, ax)\n",
    "    \n",
    "    ax.legend()\n",
    "    ax.axis('equal')\n",
    "\n",
    "    return ax\n",
    "\n",
    "m1 = [0, 1]\n",
    "m2 = [1, 0]\n",
    "s = [1, 1.3]\n",
    "plot_doa(m1, m2, s)\n",
    "    "
   ]
  },
  {
   "cell_type": "code",
   "execution_count": 2,
   "id": "d4599797",
   "metadata": {},
   "outputs": [
    {
     "data": {
      "text/plain": [
       "Text(0.5, 1.0, 'How to plot an angle with matplotlib ?')"
      ]
     },
     "execution_count": 2,
     "metadata": {},
     "output_type": "execute_result"
    },
    {
     "data": {
      "image/png": "[encoded data removed]",
      "text/plain": [
       "<Figure size 432x288 with 1 Axes>"
      ]
     },
     "metadata": {
      "needs_background": "light"
     },
     "output_type": "display_data"
    }
   ],
   "source": [
    "import matplotlib.pyplot as plt\n",
    "import numpy as np\n",
    "\n",
    "m1, b1 = 0.1, 2.0 # slope & intercept (line 1)\n",
    "m2, b2 = 2.0, -3.0 # slope & intercept (line 2)\n",
    "\n",
    "x = np.linspace(-10,10,500)\n",
    "\n",
    "plt.plot(x,x*m1+b1)\n",
    "plt.plot(x,x*m2+b2)\n",
    "\n",
    "plt.xlim(-2,8)\n",
    "plt.ylim(-2,8)\n",
    "\n",
    "plt.title('How to plot an angle with matplotlib ?', fontsize=8)\n",
    "\n",
    "#plt.savefig(\"plot_an_angle_matplotlib_01.png\", bbox_inches='tight')"
   ]
  },
  {
   "cell_type": "code",
   "execution_count": 3,
   "id": "7b5b87c7",
   "metadata": {},
   "outputs": [
    {
     "data": {
      "text/plain": [
       "<matplotlib.collections.PathCollection at 0x7fafe02a1280>"
      ]
     },
     "execution_count": 3,
     "metadata": {},
     "output_type": "execute_result"
    },
    {
     "data": {
      "image/png": "[encoded data removed]",
      "text/plain": [
       "<Figure size 432x288 with 1 Axes>"
      ]
     },
     "metadata": {
      "needs_background": "light"
     },
     "output_type": "display_data"
    }
   ],
   "source": [
    "x0 = (b2-b1) / (m1-m2)\n",
    "y0 = m1 * x0 + b1\n",
    "\n",
    "plt.scatter(x0,y0, color='black' )\n",
    "\n",
    "#plt.savefig(\"plot_an_angle_matplotlib_02.png\", bbox_inches='tight')"
   ]
  },
  {
   "cell_type": "code",
   "execution_count": 4,
   "id": "e4a0ff9c",
   "metadata": {},
   "outputs": [
    {
     "data": {
      "text/plain": [
       "<matplotlib.legend.Legend at 0x7fafc001b340>"
      ]
     },
     "execution_count": 4,
     "metadata": {},
     "output_type": "execute_result"
    },
    {
     "data": {
      "image/png": "[encoded data removed]",
      "text/plain": [
       "<Figure size 432x288 with 1 Axes>"
      ]
     },
     "metadata": {
      "needs_background": "light"
     },
     "output_type": "display_data"
    }
   ],
   "source": [
    "theta = np.linspace(0, 2*np.pi, 100)\n",
    "\n",
    "r = np.sqrt(4.0) # circle radius\n",
    "\n",
    "x1 = r * np.cos(theta) + x0\n",
    "x2 = r * np.sin(theta) + y0\n",
    "\n",
    "plt.plot(x1, x2, color='gray', label=\"angle\")\n",
    "plt.legend()\n",
    "\n",
    "#plt.savefig(\"plot_an_angle_matplotlib_03.png\", bbox_inches='tight')|"
   ]
  },
  {
   "cell_type": "code",
   "execution_count": null,
   "id": "148d9633",
   "metadata": {},
   "outputs": [],
   "source": []
  }
 ],
 "metadata": {
  "kernelspec": {
   "display_name": "Python 3 (ipykernel)",
   "language": "python",
   "name": "python3"
  },
  "language_info": {
   "codemirror_mode": {
    "name": "ipython",
    "version": 3
   },
   "file_extension": ".py",
   "mimetype": "text/x-python",
   "name": "python",
   "nbconvert_exporter": "python",
   "pygments_lexer": "ipython3",
   "version": "3.9.7"
  }
 },
 "nbformat": 4,
 "nbformat_minor": 5
}
